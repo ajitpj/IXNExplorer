{
 "cells": [
  {
   "cell_type": "code",
   "execution_count": 1,
   "metadata": {},
   "outputs": [],
   "source": [
    "import os, glob, napari, tifffile\n",
    "from pathlib import Path"
   ]
  },
  {
   "cell_type": "code",
   "execution_count": 2,
   "metadata": {},
   "outputs": [],
   "source": [
    "data_dir = Path('./Data')\n",
    "\n",
    "time_points = []\n",
    "for dir in os.scandir(data_dir):\n",
    "    if 'TimePoint' in dir.name:\n",
    "        time_points.append(dir.name)\n",
    "\n",
    "time_points = sorted(time_points)\n",
    "num_t = len(time_points)\n",
    "\n",
    "file_list = [f.name for f in os.scandir(data_dir / time_points[0]) if 'thumb' not in f.name]\n",
    "expt_name   = []\n",
    "positions   = []\n",
    "well_nos    = []\n",
    "wavelengths = []\n",
    "\n",
    "for file in file_list:\n",
    "    splits = file.split('_')\n",
    "    expt_name.append(splits[0])\n",
    "    well_nos.append(splits[1])\n",
    "    positions.append(splits[2])\n",
    "    wavelengths.append(splits[3][0:2])\n",
    "\n",
    "expt_name = list(set(expt_name))\n",
    "positions = list(set(positions))\n",
    "wavelengths = list(set(wavelengths))\n",
    "\n"
   ]
  },
  {
   "cell_type": "code",
   "execution_count": 9,
   "metadata": {},
   "outputs": [],
   "source": [
    "signifier = \"_\".join([expt_name[0], well_nos[0], positions[0], wavelengths[1]])\n",
    "all_files = [f for f in os.walk(data_dir) if signifier in f]"
   ]
  },
  {
   "cell_type": "code",
   "execution_count": 10,
   "metadata": {},
   "outputs": [
    {
     "ename": "NameError",
     "evalue": "name 'a' is not defined",
     "output_type": "error",
     "traceback": [
      "\u001b[0;31m---------------------------------------------------------------------------\u001b[0m",
      "\u001b[0;31mNameError\u001b[0m                                 Traceback (most recent call last)",
      "Cell \u001b[0;32mIn[10], line 1\u001b[0m\n\u001b[0;32m----> 1\u001b[0m \u001b[43ma\u001b[49m\u001b[38;5;241m.\u001b[39mpages[\u001b[38;5;241m0\u001b[39m]\u001b[38;5;241m.\u001b[39mtags[\u001b[38;5;124m'\u001b[39m\u001b[38;5;124mDateTime\u001b[39m\u001b[38;5;124m'\u001b[39m]\u001b[38;5;241m.\u001b[39mvalue\n",
      "\u001b[0;31mNameError\u001b[0m: name 'a' is not defined"
     ]
    }
   ],
   "source": [
    "a.pages[0].tags['DateTime'].value"
   ]
  },
  {
   "cell_type": "code",
   "execution_count": 11,
   "metadata": {},
   "outputs": [
    {
     "ename": "NameError",
     "evalue": "name 'a' is not defined",
     "output_type": "error",
     "traceback": [
      "\u001b[0;31m---------------------------------------------------------------------------\u001b[0m",
      "\u001b[0;31mNameError\u001b[0m                                 Traceback (most recent call last)",
      "Cell \u001b[0;32mIn[11], line 1\u001b[0m\n\u001b[0;32m----> 1\u001b[0m \u001b[38;5;28;01mfor\u001b[39;00m tag \u001b[38;5;129;01min\u001b[39;00m \u001b[43ma\u001b[49m\u001b[38;5;241m.\u001b[39mpages[\u001b[38;5;241m0\u001b[39m]\u001b[38;5;241m.\u001b[39mtags:\n\u001b[1;32m      2\u001b[0m     tag_name, tag_value \u001b[38;5;241m=\u001b[39m tag\u001b[38;5;241m.\u001b[39mname, tag\u001b[38;5;241m.\u001b[39mvalue\n\u001b[1;32m      3\u001b[0m     \u001b[38;5;28mprint\u001b[39m(tag_name, tag_value)\n",
      "\u001b[0;31mNameError\u001b[0m: name 'a' is not defined"
     ]
    }
   ],
   "source": [
    "for tag in a.pages[0].tags:\n",
    "    tag_name, tag_value = tag.name, tag.value\n",
    "    print(tag_name, tag_value)"
   ]
  },
  {
   "cell_type": "code",
   "execution_count": 19,
   "metadata": {},
   "outputs": [
    {
     "data": {
      "text/plain": [
       "dict"
      ]
     },
     "execution_count": 19,
     "metadata": {},
     "output_type": "execute_result"
    }
   ],
   "source": [
    "a = tifffile.TiffFile(fs[0])\n",
    "b = a.metaseries_metadata\n"
   ]
  },
  {
   "cell_type": "code",
   "execution_count": 13,
   "metadata": {},
   "outputs": [],
   "source": [
    "fs = []\n",
    "for f in data_dir.glob('**/'+signifier+'*'):\n",
    "    fs.append(f)\n"
   ]
  },
  {
   "cell_type": "code",
   "execution_count": 7,
   "metadata": {},
   "outputs": [
    {
     "name": "stderr",
     "output_type": "stream",
     "text": [
      "WARNING: QObject: Cannot create children for a parent that is in a different thread.\n",
      "(Parent is QApplication(0x13f9a47d0), parent's thread is QThread(0x11cea8290), current thread is QThread(0x300c64a60)\n",
      "WARNING: QObject::installEventFilter(): Cannot filter events for objects in a different thread.\n"
     ]
    }
   ],
   "source": [
    "viewer = napari.Viewer()\n",
    "from IXNexplorer import IXNexplorer\n",
    "v = IXNexplorer(positions, viewer)\n",
    "viewer.dock_widget"
   ]
  },
  {
   "cell_type": "code",
   "execution_count": 5,
   "metadata": {},
   "outputs": [
    {
     "name": "stdout",
     "output_type": "stream",
     "text": [
      "TiffTag 254 NewSubfileType @8388618 LONG @8388626 = PAGE\n",
      "TiffTag 256 ImageWidth @8388630 SHORT @8388638 = 2048\n",
      "TiffTag 257 ImageLength @8388642 SHORT @8388650 = 2048\n",
      "TiffTag 258 BitsPerSample @8388654 SHORT @8388662 = 16\n",
      "TiffTag 259 Compression @8388666 SHORT @8388674 = NONE\n",
      "TiffTag 262 PhotometricInterpretation @8388678 SHORT @8388686 = MINISBLACK\n",
      "TiffTag 270 ImageDescription @8388690 ASCII[5650] @8388790 = <MetaData> <prop i\n",
      "TiffTag 273 StripOffsets @8388702 LONG[1024] @8394440 = (8, 8200, 16392, 24584,\n",
      "TiffTag 274 Orientation @8388714 SHORT @8388722 = TOPLEFT\n",
      "TiffTag 277 SamplesPerPixel @8388726 SHORT @8388734 = 1\n",
      "TiffTag 278 RowsPerStrip @8388738 SHORT @8388746 = 2\n",
      "TiffTag 279 StripByteCounts @8388750 LONG[1024] @8398536 = (8192, 8192, 8192, 8\n",
      "TiffTag 305 Software @8388762 ASCII[11] @8402632 = MetaSeries\n",
      "TiffTag 306 DateTime @8388774 ASCII[22] @8402644 = 20221006 13:30:13.633\n"
     ]
    }
   ],
   "source": [
    "t = tifffile.TiffFile('Data/TimePoint_1/cycb_E12_s4_w1B3A9679F-5725-4F1A-85BD-60DCDD8DDDB3.tif')\n",
    "with t as tif: \n",
    "    for page in tif.pages: \n",
    "        for tag in page.tags:\n",
    "            print(tag)"
   ]
  },
  {
   "cell_type": "code",
   "execution_count": 22,
   "metadata": {},
   "outputs": [
    {
     "name": "stdout",
     "output_type": "stream",
     "text": [
      "TiffTag 254 NewSubfileType @8388618 LONG @8388626 = PAGE\n",
      "TiffTag 256 ImageWidth @8388630 SHORT @8388638 = 2048\n",
      "TiffTag 257 ImageLength @8388642 SHORT @8388650 = 2048\n",
      "TiffTag 258 BitsPerSample @8388654 SHORT @8388662 = 16\n",
      "TiffTag 259 Compression @8388666 SHORT @8388674 = NONE\n",
      "TiffTag 262 PhotometricInterpretation @8388678 SHORT @8388686 = MINISBLACK\n",
      "TiffTag 270 ImageDescription @8388690 ASCII[5650] @8388790 = <MetaData> <prop i\n",
      "TiffTag 273 StripOffsets @8388702 LONG[1024] @8394440 = (8, 8200, 16392, 24584,\n",
      "TiffTag 274 Orientation @8388714 SHORT @8388722 = TOPLEFT\n",
      "TiffTag 277 SamplesPerPixel @8388726 SHORT @8388734 = 1\n",
      "TiffTag 278 RowsPerStrip @8388738 SHORT @8388746 = 2\n",
      "TiffTag 279 StripByteCounts @8388750 LONG[1024] @8398536 = (8192, 8192, 8192, 8\n",
      "TiffTag 305 Software @8388762 ASCII[11] @8402632 = MetaSeries\n",
      "TiffTag 306 DateTime @8388774 ASCII[22] @8402644 = 20221006 13:30:13.633\n"
     ]
    }
   ],
   "source": [
    "for tag in t.pages[0].tags:\n",
    "    print(tag)"
   ]
  }
 ],
 "metadata": {
  "kernelspec": {
   "display_name": "img-env",
   "language": "python",
   "name": "python3"
  },
  "language_info": {
   "codemirror_mode": {
    "name": "ipython",
    "version": 3
   },
   "file_extension": ".py",
   "mimetype": "text/x-python",
   "name": "python",
   "nbconvert_exporter": "python",
   "pygments_lexer": "ipython3",
   "version": "3.10.8"
  }
 },
 "nbformat": 4,
 "nbformat_minor": 2
}
